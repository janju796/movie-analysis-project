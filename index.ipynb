{
 "cells": [
  {
   "cell_type": "code",
   "execution_count": 16,
   "metadata": {},
   "outputs": [],
   "source": [
    "#importing modules\n",
    "import csv\n",
    "import pandas as pd\n",
    "import numpy as np\n",
    "import matplotlib\n",
    "import matplotlib.pyplot as plt\n"
   ]
  },
  {
   "cell_type": "code",
   "execution_count": 17,
   "metadata": {},
   "outputs": [
    {
     "name": "stdout",
     "output_type": "stream",
     "text": [
      "<class 'pandas.core.frame.DataFrame'>\n",
      "Index: 3387 entries, Toy Story 3 to An Actor Prepares\n",
      "Data columns (total 4 columns):\n",
      " #   Column          Non-Null Count  Dtype  \n",
      "---  ------          --------------  -----  \n",
      " 0   studio          3382 non-null   object \n",
      " 1   domestic_gross  3359 non-null   float64\n",
      " 2   foreign_gross   2037 non-null   object \n",
      " 3   year            3387 non-null   int64  \n",
      "dtypes: float64(1), int64(1), object(2)\n",
      "memory usage: 132.3+ KB\n"
     ]
    }
   ],
   "source": [
    "#creating a new panda data frame from \"bom.movie_gross.csv\"csv file\n",
    "movie_gross = pd.read_csv(\"bom.movie_gross.csv\", index_col=0)\n",
    "#checking dataframe info\n",
    "movie_gross.info()"
   ]
  },
  {
   "cell_type": "code",
   "execution_count": 18,
   "metadata": {},
   "outputs": [
    {
     "name": "stdout",
     "output_type": "stream",
     "text": [
      "<class 'pandas.core.frame.DataFrame'>\n",
      "Index: 2004 entries, Toy Story 3 to Antonio Lopez 1970: Sex Fashion & Disco\n",
      "Data columns (total 4 columns):\n",
      " #   Column          Non-Null Count  Dtype  \n",
      "---  ------          --------------  -----  \n",
      " 0   studio          2002 non-null   object \n",
      " 1   domestic_gross  2004 non-null   float64\n",
      " 2   foreign_gross   2004 non-null   float64\n",
      " 3   year            2004 non-null   int64  \n",
      "dtypes: float64(2), int64(1), object(1)\n",
      "memory usage: 78.3+ KB\n"
     ]
    }
   ],
   "source": [
    "# Convert 'foreign_gross' column to numeric type\n",
    "movie_gross['foreign_gross'] = pd.to_numeric(movie_gross['foreign_gross'], errors='coerce')\n",
    "\n",
    "#droping missing values\n",
    "movie_gross = movie_gross.dropna(subset=['domestic_gross'],)\n",
    "\n",
    "movie_gross = movie_gross.dropna(subset=['foreign_gross'],)\n",
    "\n",
    "movie_gross = movie_gross.dropna(subset=['year'],)\n",
    "# verifying changes\n",
    "movie_gross.info()"
   ]
  },
  {
   "cell_type": "code",
   "execution_count": 19,
   "metadata": {},
   "outputs": [
    {
     "name": "stdout",
     "output_type": "stream",
     "text": [
      "[2010, 2011, 2012, 2014, 2013, 2016, 2015, 2017, 2018]\n"
     ]
    }
   ],
   "source": [
    "# checking for years reflected in the data\n",
    "movie_gross_years = movie_gross['year'].value_counts().head(10).index.tolist()\n",
    "#printing the years \n",
    "print(movie_gross_years)"
   ]
  },
  {
   "cell_type": "code",
   "execution_count": 20,
   "metadata": {},
   "outputs": [
    {
     "data": {
      "text/html": [
       "<div>\n",
       "<style scoped>\n",
       "    .dataframe tbody tr th:only-of-type {\n",
       "        vertical-align: middle;\n",
       "    }\n",
       "\n",
       "    .dataframe tbody tr th {\n",
       "        vertical-align: top;\n",
       "    }\n",
       "\n",
       "    .dataframe thead th {\n",
       "        text-align: right;\n",
       "    }\n",
       "</style>\n",
       "<table border=\"1\" class=\"dataframe\">\n",
       "  <thead>\n",
       "    <tr style=\"text-align: right;\">\n",
       "      <th></th>\n",
       "      <th>studio</th>\n",
       "      <th>domestic_gross</th>\n",
       "      <th>foreign_gross</th>\n",
       "      <th>year</th>\n",
       "    </tr>\n",
       "    <tr>\n",
       "      <th>title</th>\n",
       "      <th></th>\n",
       "      <th></th>\n",
       "      <th></th>\n",
       "      <th></th>\n",
       "    </tr>\n",
       "  </thead>\n",
       "  <tbody>\n",
       "    <tr>\n",
       "      <th>Antonio Lopez 1970: Sex Fashion &amp; Disco</th>\n",
       "      <td>FM</td>\n",
       "      <td>43200.0</td>\n",
       "      <td>30000.0</td>\n",
       "      <td>2018</td>\n",
       "    </tr>\n",
       "    <tr>\n",
       "      <th>Game Night</th>\n",
       "      <td>WB (NL)</td>\n",
       "      <td>69200000.0</td>\n",
       "      <td>48500000.0</td>\n",
       "      <td>2018</td>\n",
       "    </tr>\n",
       "    <tr>\n",
       "      <th>I Feel Pretty</th>\n",
       "      <td>STX</td>\n",
       "      <td>48800000.0</td>\n",
       "      <td>45700000.0</td>\n",
       "      <td>2018</td>\n",
       "    </tr>\n",
       "    <tr>\n",
       "      <th>Truth or Dare</th>\n",
       "      <td>Uni.</td>\n",
       "      <td>41400000.0</td>\n",
       "      <td>53900000.0</td>\n",
       "      <td>2018</td>\n",
       "    </tr>\n",
       "    <tr>\n",
       "      <th>The Favourite</th>\n",
       "      <td>FoxS</td>\n",
       "      <td>34400000.0</td>\n",
       "      <td>61600000.0</td>\n",
       "      <td>2018</td>\n",
       "    </tr>\n",
       "  </tbody>\n",
       "</table>\n",
       "</div>"
      ],
      "text/plain": [
       "                                          studio  domestic_gross  \\\n",
       "title                                                              \n",
       "Antonio Lopez 1970: Sex Fashion & Disco       FM         43200.0   \n",
       "Game Night                               WB (NL)      69200000.0   \n",
       "I Feel Pretty                                STX      48800000.0   \n",
       "Truth or Dare                               Uni.      41400000.0   \n",
       "The Favourite                               FoxS      34400000.0   \n",
       "\n",
       "                                         foreign_gross  year  \n",
       "title                                                         \n",
       "Antonio Lopez 1970: Sex Fashion & Disco        30000.0  2018  \n",
       "Game Night                                  48500000.0  2018  \n",
       "I Feel Pretty                               45700000.0  2018  \n",
       "Truth or Dare                               53900000.0  2018  \n",
       "The Favourite                               61600000.0  2018  "
      ]
     },
     "execution_count": 20,
     "metadata": {},
     "output_type": "execute_result"
    }
   ],
   "source": [
    "#sorting the data based on the year column\n",
    "movie_gross = movie_gross.sort_values('year', ascending=False)\n",
    "# verifying changes \n",
    "movie_gross.head()"
   ]
  },
  {
   "cell_type": "code",
   "execution_count": 21,
   "metadata": {},
   "outputs": [
    {
     "data": {
      "image/png": "[encoded data removed]",
      "text/plain": [
       "<Figure size 640x480 with 1 Axes>"
      ]
     },
     "metadata": {},
     "output_type": "display_data"
    }
   ],
   "source": [
    "\n",
    "# Define the years of interest\n",
    "years_of_interest = [2010, 2011, 2012,2013, 2014, 2015, 2016, 2017, 2018]\n",
    "\n",
    "def calculate_totals(years_of_interest, movie_gross):\n",
    "    \"\"\"\n",
    "    Calculate the total domestic and foreign gross for each year of interest.\n",
    "\n",
    "    Args:\n",
    "        years_of_interest (list): A list of years for which to calculate the totals.\n",
    "        movie_gross (DataFrame): A DataFrame containing movie gross data.\n",
    "\n",
    "    Returns:\n",
    "        tuple: A tuple containing two dictionaries. The first dictionary represents the total domestic\n",
    "               gross for each year, with the year as the key. The second dictionary represents the total\n",
    "               foreign gross for each year, with the year as the key.\"\"\"\n",
    "domestic_totals = {}\n",
    "foreign_totals = {}\n",
    "\n",
    "# Iterate over each year of interest\n",
    "for year in years_of_interest:\n",
    "    # Filter the DataFrame for the current year\n",
    "    filtered_data = movie_gross[movie_gross['year'] == year]\n",
    "    \n",
    "    # Calculate the sum of 'domestic_gross' for the filtered data\n",
    "    domestic_total = filtered_data['domestic_gross'].sum()\n",
    "    \n",
    "    # Calculate the sum of 'foreign_gross' for the filtered data\n",
    "    foreign_total = filtered_data['foreign_gross'].sum()\n",
    "    \n",
    "    # Store the total in the dictionaries with the year as the key\n",
    "    domestic_totals[year] = domestic_total\n",
    "    foreign_totals[year] = foreign_total\n",
    "\n",
    "# Create lists of years and their respective domestic and foreign gross totals\n",
    "years = list(domestic_totals.keys())\n",
    "domestic_gross = list(domestic_totals.values())\n",
    "foreign_gross = list(foreign_totals.values())\n",
    "\n",
    "# Create a line graph\n",
    "plt.plot(years, domestic_gross, marker='o', label='Domestic Gross')\n",
    "plt.plot(years, foreign_gross, marker='o', label='Foreign Gross')\n",
    "\n",
    "# Add labels and title to the graph\n",
    "plt.xlabel('Year')\n",
    "plt.ylabel('Gross Total')\n",
    "plt.title('Total Domestic and Foreign Gross for Each Year')\n",
    "\n",
    "# Add a legend with custom labels\n",
    "plt.legend(['Domestic Gross', 'Foreign Gross'])\n",
    "\n",
    "# Display the graph\n",
    "plt.show()\n"
   ]
  },
  {
   "cell_type": "code",
   "execution_count": 22,
   "metadata": {},
   "outputs": [
    {
     "name": "stdout",
     "output_type": "stream",
     "text": [
      "<class 'pandas.core.frame.DataFrame'>\n",
      "Int64Index: 5782 entries, 1 to 82\n",
      "Data columns (total 5 columns):\n",
      " #   Column             Non-Null Count  Dtype \n",
      "---  ------             --------------  ----- \n",
      " 0   release_date       5782 non-null   object\n",
      " 1   movie              5782 non-null   object\n",
      " 2   production_budget  5782 non-null   object\n",
      " 3   domestic_gross     5782 non-null   object\n",
      " 4   worldwide_gross    5782 non-null   object\n",
      "dtypes: object(5)\n",
      "memory usage: 271.0+ KB\n"
     ]
    }
   ],
   "source": [
    "#creating a new panda data frame from \"bom.movie_gross.csv\"csv file\n",
    "movie_budget = pd.read_csv(\"tn.movie_budgets.csv\", index_col=0)\n",
    "#checking dataframe info\n",
    "movie_budget.info()"
   ]
  },
  {
   "cell_type": "code",
   "execution_count": 23,
   "metadata": {},
   "outputs": [
    {
     "data": {
      "text/html": [
       "<div>\n",
       "<style scoped>\n",
       "    .dataframe tbody tr th:only-of-type {\n",
       "        vertical-align: middle;\n",
       "    }\n",
       "\n",
       "    .dataframe tbody tr th {\n",
       "        vertical-align: top;\n",
       "    }\n",
       "\n",
       "    .dataframe thead th {\n",
       "        text-align: right;\n",
       "    }\n",
       "</style>\n",
       "<table border=\"1\" class=\"dataframe\">\n",
       "  <thead>\n",
       "    <tr style=\"text-align: right;\">\n",
       "      <th></th>\n",
       "      <th>release_date</th>\n",
       "      <th>movie</th>\n",
       "      <th>production_budget</th>\n",
       "      <th>domestic_gross</th>\n",
       "      <th>worldwide_gross</th>\n",
       "    </tr>\n",
       "    <tr>\n",
       "      <th>id</th>\n",
       "      <th></th>\n",
       "      <th></th>\n",
       "      <th></th>\n",
       "      <th></th>\n",
       "      <th></th>\n",
       "    </tr>\n",
       "  </thead>\n",
       "  <tbody>\n",
       "    <tr>\n",
       "      <th>1</th>\n",
       "      <td>Dec 18, 2009</td>\n",
       "      <td>Avatar</td>\n",
       "      <td>$425,000,000</td>\n",
       "      <td>$760,507,625</td>\n",
       "      <td>$2,776,345,279</td>\n",
       "    </tr>\n",
       "    <tr>\n",
       "      <th>2</th>\n",
       "      <td>May 20, 2011</td>\n",
       "      <td>Pirates of the Caribbean: On Stranger Tides</td>\n",
       "      <td>$410,600,000</td>\n",
       "      <td>$241,063,875</td>\n",
       "      <td>$1,045,663,875</td>\n",
       "    </tr>\n",
       "    <tr>\n",
       "      <th>3</th>\n",
       "      <td>Jun 7, 2019</td>\n",
       "      <td>Dark Phoenix</td>\n",
       "      <td>$350,000,000</td>\n",
       "      <td>$42,762,350</td>\n",
       "      <td>$149,762,350</td>\n",
       "    </tr>\n",
       "    <tr>\n",
       "      <th>4</th>\n",
       "      <td>May 1, 2015</td>\n",
       "      <td>Avengers: Age of Ultron</td>\n",
       "      <td>$330,600,000</td>\n",
       "      <td>$459,005,868</td>\n",
       "      <td>$1,403,013,963</td>\n",
       "    </tr>\n",
       "    <tr>\n",
       "      <th>5</th>\n",
       "      <td>Dec 15, 2017</td>\n",
       "      <td>Star Wars Ep. VIII: The Last Jedi</td>\n",
       "      <td>$317,000,000</td>\n",
       "      <td>$620,181,382</td>\n",
       "      <td>$1,316,721,747</td>\n",
       "    </tr>\n",
       "  </tbody>\n",
       "</table>\n",
       "</div>"
      ],
      "text/plain": [
       "    release_date                                        movie  \\\n",
       "id                                                              \n",
       "1   Dec 18, 2009                                       Avatar   \n",
       "2   May 20, 2011  Pirates of the Caribbean: On Stranger Tides   \n",
       "3    Jun 7, 2019                                 Dark Phoenix   \n",
       "4    May 1, 2015                      Avengers: Age of Ultron   \n",
       "5   Dec 15, 2017            Star Wars Ep. VIII: The Last Jedi   \n",
       "\n",
       "   production_budget domestic_gross worldwide_gross  \n",
       "id                                                   \n",
       "1       $425,000,000   $760,507,625  $2,776,345,279  \n",
       "2       $410,600,000   $241,063,875  $1,045,663,875  \n",
       "3       $350,000,000    $42,762,350    $149,762,350  \n",
       "4       $330,600,000   $459,005,868  $1,403,013,963  \n",
       "5       $317,000,000   $620,181,382  $1,316,721,747  "
      ]
     },
     "execution_count": 23,
     "metadata": {},
     "output_type": "execute_result"
    }
   ],
   "source": [
    "#checking data in the dataframe\n",
    "movie_budget.head()"
   ]
  },
  {
   "cell_type": "code",
   "execution_count": 24,
   "metadata": {},
   "outputs": [
    {
     "name": "stdout",
     "output_type": "stream",
     "text": [
      "<class 'pandas.core.frame.DataFrame'>\n",
      "Int64Index: 5782 entries, 1 to 82\n",
      "Data columns (total 5 columns):\n",
      " #   Column             Non-Null Count  Dtype  \n",
      "---  ------             --------------  -----  \n",
      " 0   release_date       5782 non-null   object \n",
      " 1   movie              5782 non-null   object \n",
      " 2   production_budget  5782 non-null   float64\n",
      " 3   domestic_gross     5782 non-null   float64\n",
      " 4   worldwide_gross    5782 non-null   float64\n",
      "dtypes: float64(3), object(2)\n",
      "memory usage: 271.0+ KB\n"
     ]
    }
   ],
   "source": [
    "# Specify the columns to convert\n",
    "columns_to_convert = ['production_budget', 'domestic_gross', 'worldwide_gross']\n",
    "\n",
    "# Remove special characters ($) and handle missing or invalid values\n",
    "movie_budget[columns_to_convert] = movie_budget[columns_to_convert].replace({'\\$-': np.nan, ',': ''}, regex=True)\n",
    "\n",
    "# Remove non-numeric characters using regular expressions\n",
    "movie_budget[columns_to_convert] = movie_budget[columns_to_convert].replace({'[^0-9.]': ''}, regex=True)\n",
    "\n",
    "# Convert the columns to floats\n",
    "movie_budget[columns_to_convert] = movie_budget[columns_to_convert].astype(float)\n",
    "\n",
    "# Verify the changes\n",
    "movie_budget.info()"
   ]
  },
  {
   "cell_type": "code",
   "execution_count": 33,
   "metadata": {},
   "outputs": [
    {
     "data": {
      "text/html": [
       "<div>\n",
       "<style scoped>\n",
       "    .dataframe tbody tr th:only-of-type {\n",
       "        vertical-align: middle;\n",
       "    }\n",
       "\n",
       "    .dataframe tbody tr th {\n",
       "        vertical-align: top;\n",
       "    }\n",
       "\n",
       "    .dataframe thead th {\n",
       "        text-align: right;\n",
       "    }\n",
       "</style>\n",
       "<table border=\"1\" class=\"dataframe\">\n",
       "  <thead>\n",
       "    <tr style=\"text-align: right;\">\n",
       "      <th></th>\n",
       "      <th>release_date</th>\n",
       "      <th>movie</th>\n",
       "      <th>production_budget</th>\n",
       "      <th>domestic_gross</th>\n",
       "      <th>worldwide_gross</th>\n",
       "      <th>total_gross</th>\n",
       "    </tr>\n",
       "    <tr>\n",
       "      <th>id</th>\n",
       "      <th></th>\n",
       "      <th></th>\n",
       "      <th></th>\n",
       "      <th></th>\n",
       "      <th></th>\n",
       "      <th></th>\n",
       "    </tr>\n",
       "  </thead>\n",
       "  <tbody>\n",
       "    <tr>\n",
       "      <th>1</th>\n",
       "      <td>Dec 18, 2009</td>\n",
       "      <td>Avatar</td>\n",
       "      <td>425000000.0</td>\n",
       "      <td>760507625.0</td>\n",
       "      <td>2.776345e+09</td>\n",
       "      <td>3.536853e+09</td>\n",
       "    </tr>\n",
       "    <tr>\n",
       "      <th>2</th>\n",
       "      <td>May 20, 2011</td>\n",
       "      <td>Pirates of the Caribbean: On Stranger Tides</td>\n",
       "      <td>410600000.0</td>\n",
       "      <td>241063875.0</td>\n",
       "      <td>1.045664e+09</td>\n",
       "      <td>1.286728e+09</td>\n",
       "    </tr>\n",
       "    <tr>\n",
       "      <th>3</th>\n",
       "      <td>Jun 7, 2019</td>\n",
       "      <td>Dark Phoenix</td>\n",
       "      <td>350000000.0</td>\n",
       "      <td>42762350.0</td>\n",
       "      <td>1.497624e+08</td>\n",
       "      <td>1.925247e+08</td>\n",
       "    </tr>\n",
       "    <tr>\n",
       "      <th>4</th>\n",
       "      <td>May 1, 2015</td>\n",
       "      <td>Avengers: Age of Ultron</td>\n",
       "      <td>330600000.0</td>\n",
       "      <td>459005868.0</td>\n",
       "      <td>1.403014e+09</td>\n",
       "      <td>1.862020e+09</td>\n",
       "    </tr>\n",
       "    <tr>\n",
       "      <th>5</th>\n",
       "      <td>Dec 15, 2017</td>\n",
       "      <td>Star Wars Ep. VIII: The Last Jedi</td>\n",
       "      <td>317000000.0</td>\n",
       "      <td>620181382.0</td>\n",
       "      <td>1.316722e+09</td>\n",
       "      <td>1.936903e+09</td>\n",
       "    </tr>\n",
       "  </tbody>\n",
       "</table>\n",
       "</div>"
      ],
      "text/plain": [
       "    release_date                                        movie  \\\n",
       "id                                                              \n",
       "1   Dec 18, 2009                                       Avatar   \n",
       "2   May 20, 2011  Pirates of the Caribbean: On Stranger Tides   \n",
       "3    Jun 7, 2019                                 Dark Phoenix   \n",
       "4    May 1, 2015                      Avengers: Age of Ultron   \n",
       "5   Dec 15, 2017            Star Wars Ep. VIII: The Last Jedi   \n",
       "\n",
       "    production_budget  domestic_gross  worldwide_gross   total_gross  \n",
       "id                                                                    \n",
       "1         425000000.0     760507625.0     2.776345e+09  3.536853e+09  \n",
       "2         410600000.0     241063875.0     1.045664e+09  1.286728e+09  \n",
       "3         350000000.0      42762350.0     1.497624e+08  1.925247e+08  \n",
       "4         330600000.0     459005868.0     1.403014e+09  1.862020e+09  \n",
       "5         317000000.0     620181382.0     1.316722e+09  1.936903e+09  "
      ]
     },
     "execution_count": 33,
     "metadata": {},
     "output_type": "execute_result"
    }
   ],
   "source": [
    "#verifying changes\n",
    "movie_budget.head()"
   ]
  },
  {
   "cell_type": "code",
   "execution_count": 35,
   "metadata": {},
   "outputs": [
    {
     "data": {
      "image/png": "[encoded data removed]",
      "text/plain": [
       "<Figure size 640x480 with 1 Axes>"
      ]
     },
     "metadata": {},
     "output_type": "display_data"
    }
   ],
   "source": [
    "\n",
    "# Convert the 'production_budget', 'domestic_gross', and 'worldwide_gross' columns to numeric types\n",
    "movie_budget['production_budget'] = movie_budget['production_budget'].replace('[\\$,]', '', regex=True).astype(float)\n",
    "movie_budget['domestic_gross'] = movie_budget['domestic_gross'].replace('[\\$,]', '', regex=True).astype(float)\n",
    "movie_budget['worldwide_gross'] = movie_budget['worldwide_gross'].replace('[\\$,]', '', regex=True).astype(float)\n",
    "\n",
    "# Addition of domestic_gross and worldwide_gross\n",
    "movie_budget['total_gross'] = movie_budget['domestic_gross'] + movie_budget['worldwide_gross']\n",
    "\n",
    "# Sort the DataFrame by production budget in descending order\n",
    "movie_budget_sorted = movie_budget.sort_values('production_budget', ascending=False)\n",
    "\n",
    "# Extract the top 10 movies based on production budget and total gross\n",
    "top_10_movies = movie_budget_sorted.head(10)\n",
    "\n",
    "# Extract the required data\n",
    "production_budget = top_10_movies['production_budget']\n",
    "total_gross = top_10_movies['total_gross']\n",
    "movies = top_10_movies.index.values\n",
    "\n",
    "# Generate an array of indices for the x-axis\n",
    "indices = np.arange(len(production_budget))\n",
    "\n",
    "# Set the width of each bar\n",
    "bar_width = 0.35\n",
    "\n",
    "# Create the bar graph\n",
    "plt.bar(indices, production_budget, bar_width, label='Production Budget')\n",
    "plt.bar(indices + bar_width, total_gross, bar_width, label='Total Gross')\n",
    "\n",
    "# Set the x-axis tick labels\n",
    "plt.xticks(indices + bar_width / 2, movies, rotation='vertical')\n",
    "\n",
    "plt.xlabel('Movie')\n",
    "plt.ylabel('Amount ($)')\n",
    "plt.title('Comparison of Production Budget and Total Gross (Top 10 Movies)')\n",
    "plt.legend()\n",
    "plt.tight_layout()\n",
    "plt.show()\n"
   ]
  },
  {
   "cell_type": "code",
   "execution_count": 30,
   "metadata": {},
   "outputs": [
    {
     "data": {
      "image/png": "[encoded data removed]",
      "text/plain": [
       "<Figure size 640x480 with 1 Axes>"
      ]
     },
     "metadata": {},
     "output_type": "display_data"
    }
   ],
   "source": [
    "\n",
    "# Convert the 'production_budget', 'domestic_gross', and 'worldwide_gross' columns to numeric types\n",
    "movie_budget['production_budget'] = movie_budget['production_budget'].replace('[\\$,]', '', regex=True).astype(float)\n",
    "movie_budget['domestic_gross'] = movie_budget['domestic_gross'].replace('[\\$,]', '', regex=True).astype(float)\n",
    "movie_budget['worldwide_gross'] = movie_budget['worldwide_gross'].replace('[\\$,]', '', regex=True).astype(float)\n",
    "\n",
    "# Addition of domestic_gross and worldwide_gross\n",
    "movie_budget['total_gross'] = movie_budget['domestic_gross'] + movie_budget['worldwide_gross']\n",
    "\n",
    "# Sort the DataFrame by production budget in descending order\n",
    "movie_budget_sorted = movie_budget.sort_values('production_budget', ascending=False)\n",
    "\n",
    "# Extract the top 10 movies based on production budget and total gross\n",
    "bottom_10_movies = movie_budget_sorted.tail(10)\n",
    "\n",
    "# Extract the required data\n",
    "production_budget = bottom_10_movies['production_budget']\n",
    "total_gross = bottom_10_movies['total_gross']\n",
    "movies = bottom_10_movies.index.values\n",
    "\n",
    "# Generate an array of indices for the x-axis\n",
    "indices = np.arange(len(production_budget))\n",
    "\n",
    "# Set the width of each bar\n",
    "bar_width = 0.35\n",
    "\n",
    "# Create the bar graph\n",
    "plt.bar(indices, production_budget, bar_width, label='Production Budget')\n",
    "plt.bar(indices + bar_width, total_gross, bar_width, label='Total Gross')\n",
    "\n",
    "# Set the x-axis tick labels\n",
    "plt.xticks(indices + bar_width / 2, movies, rotation='vertical')\n",
    "\n",
    "plt.xlabel('Movie')\n",
    "plt.ylabel('Amount ($)')\n",
    "plt.title('Comparison of Production Budget and Total Gross (Bottom 10 Movies)')\n",
    "plt.legend()\n",
    "plt.tight_layout()\n",
    "plt.show()\n"
   ]
  },
  {
   "cell_type": "code",
   "execution_count": null,
   "metadata": {},
   "outputs": [],
   "source": []
  }
 ],
 "metadata": {
  "kernelspec": {
   "display_name": "base",
   "language": "python",
   "name": "python3"
  },
  "language_info": {
   "codemirror_mode": {
    "name": "ipython",
    "version": 3
   },
   "file_extension": ".py",
   "mimetype": "text/x-python",
   "name": "python",
   "nbconvert_exporter": "python",
   "pygments_lexer": "ipython3",
   "version": "3.10.9"
  },
  "orig_nbformat": 4
 },
 "nbformat": 4,
 "nbformat_minor": 2
}
